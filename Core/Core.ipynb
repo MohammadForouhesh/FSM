{
 "cells": [
  {
   "cell_type": "code",
   "execution_count": 15,
   "metadata": {
    "collapsed": false
   },
   "outputs": [
    {
     "name": "stdout",
     "output_type": "stream",
     "text": [
      "drink*/*False*/*[]*/*[]\n"
     ]
    }
   ],
   "source": [
    "\n",
    "import inspect\n",
    "import itertools\n",
    "import logging\n",
    "\n",
    "logger = logging.getLogger(__name__)\n",
    "logger.addHandler(logging.NullHandler())\n",
    "\n",
    "class State:\n",
    "    def __init__(self, name: str, on_enter:(str or list) =None, on_exit:(str or list) =None,\n",
    "                 ignore_invalid_triggers: bool =False):\n",
    "        \n",
    "        self.name = name\n",
    "        self.on_enter = listify(on_enter) if on_enter else []\n",
    "        self.on_exit = listify(on_exit) if on_exit else []\n",
    "        self.ignore_invalid_triggers = ignore_invalid_triggers\n",
    "    \n",
    "    def __str__(self):\n",
    "        return str(self.name) + \"*/*\" + str(self.ignore_invalid_triggers) + \"*/*\" + str(self.on_enter) + \"*/*\" +\\\n",
    "                str(self.on_exit)\n",
    "    \n",
    "    def enter(self, event_data: EventData):\n",
    "        \"\"\" Triggered when a state is entered. \"\"\"\n",
    "        logger.debug(\"%sEntering state %s. Processing callbacks...\", event_data.machine.id, self.name)\n",
    "        for oe in self.on_enter:\n",
    "            event_data.machine._callback(oe, event_data)\n",
    "        logger.info(\"%sEntered state %s\", event_data.machine.id, self.name)\n",
    "\n",
    "    def exit(self, event_data: EventData):\n",
    "        \"\"\" Triggered when a state is exited. \"\"\"\n",
    "        logger.debug(\"%sExiting state %s. Processing callbacks...\", event_data.machine.id, self.name)\n",
    "        for oe in self.on_exit:\n",
    "            event_data.machine._callback(oe, event_data)\n",
    "        logger.info(\"%sExited state %s\", event_data.machine.id, self.name)\n",
    "\n",
    "    def add_callback(self, trigger: str, func: str):\n",
    "        \"\"\" Add a new enter or exit callback.\"\"\"\n",
    "        callback_list = getattr(self, 'on_' + trigger)\n",
    "        callback_list.append(func)\n",
    "    \n",
    "if __name__ == '__main__':\n",
    "    s = State(\"drink\")\n",
    "    print(s)\n"
   ]
  },
  {
   "cell_type": "code",
   "execution_count": 5,
   "metadata": {
    "collapsed": true
   },
   "outputs": [],
   "source": [
    "\n",
    "\n",
    "class Condition:\n",
    "    pass"
   ]
  },
  {
   "cell_type": "code",
   "execution_count": 2,
   "metadata": {
    "collapsed": true
   },
   "outputs": [],
   "source": [
    "\n",
    "\n",
    "class Transition:\n",
    "    pass"
   ]
  },
  {
   "cell_type": "code",
   "execution_count": 3,
   "metadata": {
    "collapsed": true
   },
   "outputs": [],
   "source": [
    "\n",
    "\n",
    "class EventData:\n",
    "    pass"
   ]
  },
  {
   "cell_type": "code",
   "execution_count": 4,
   "metadata": {
    "collapsed": true
   },
   "outputs": [],
   "source": [
    "\n",
    "\n",
    "class Event:\n",
    "    pass"
   ]
  },
  {
   "cell_type": "code",
   "execution_count": null,
   "metadata": {
    "collapsed": true
   },
   "outputs": [],
   "source": [
    "\n",
    "\n",
    "class Machine:\n",
    "    pass"
   ]
  }
 ],
 "metadata": {
  "kernelspec": {
   "display_name": "Python 3",
   "language": "python",
   "name": "python3"
  },
  "language_info": {
   "codemirror_mode": {
    "name": "ipython",
    "version": 3
   },
   "file_extension": ".py",
   "mimetype": "text/x-python",
   "name": "python",
   "nbconvert_exporter": "python",
   "pygments_lexer": "ipython3",
   "version": "3.5.2"
  }
 },
 "nbformat": 4,
 "nbformat_minor": 0
}
