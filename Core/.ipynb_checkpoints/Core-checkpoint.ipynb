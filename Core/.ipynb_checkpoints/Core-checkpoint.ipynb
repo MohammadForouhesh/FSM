{
 "cells": [
  {
   "cell_type": "code",
   "execution_count": 15,
   "metadata": {
    "collapsed": false
   },
   "outputs": [
    {
     "name": "stdout",
     "output_type": "stream",
     "text": [
      "drink*/*False*/*[]*/*[]\n"
     ]
    }
   ],
   "source": [
    "\n",
    "import inspect\n",
    "import itertools\n",
    "import logging\n",
    "\n",
    "logger = logging.getLogger(__name__)\n",
    "logger.addHandler(logging.NullHandler())\n",
    "\n",
    "class State:\n",
    "    def __init__(self, name: str, on_enter:(str or list) =None, on_exit:(str or list) =None,\n",
    "                 ignore_invalid_triggers: bool =False):\n",
    "        \n",
    "        self.name = name\n",
    "        self.on_enter = listify(on_enter) if on_enter else []\n",
    "        self.on_exit = listify(on_exit) if on_exit else []\n",
    "        self.ignore_invalid_triggers = ignore_invalid_triggers\n",
    "    \n",
    "    def __str__(self):\n",
    "        return str(self.name) + \"*/*\" + str(self.ignore_invalid_triggers) + \"*/*\" + str(self.on_enter) + \"*/*\" +\\\n",
    "                str(self.on_exit)\n",
    "    \n",
    "    def enter(self, event_data: EventData):\n",
    "        \"\"\" Triggered when a state is entered. \"\"\"\n",
    "        logger.debug(\"%sEntering state %s. Processing callbacks...\", event_data.machine.id, self.name)\n",
    "        for oe in self.on_enter:\n",
    "            event_data.machine._callback(oe, event_data)\n",
    "        logger.info(\"%sEntered state %s\", event_data.machine.id, self.name)\n",
    "\n",
    "    def exit(self, event_data: EventData):\n",
    "        \"\"\" Triggered when a state is exited. \"\"\"\n",
    "        logger.debug(\"%sExiting state %s. Processing callbacks...\", event_data.machine.id, self.name)\n",
    "        for oe in self.on_exit:\n",
    "            event_data.machine._callback(oe, event_data)\n",
    "        logger.info(\"%sExited state %s\", event_data.machine.id, self.name)\n",
    "\n",
    "    def add_callback(self, trigger: str, func: str):\n",
    "        \"\"\" Add a new enter or exit callback.\"\"\"\n",
    "        callback_list = getattr(self, 'on_' + trigger)\n",
    "        callback_list.append(func)\n",
    "    \n",
    "if __name__ == '__main__':\n",
    "    s = State(\"drink\")\n",
    "    print(s)\n"
   ]
  },
  {
   "cell_type": "code",
   "execution_count": 5,
   "metadata": {
    "collapsed": true
   },
   "outputs": [],
   "source": [
    "\n",
    "\n",
    "class Condition:\n",
    "    \"\"\"\n",
    "        This class should not be initialized or called from outside a\n",
    "        Transition instance, and exists at module level.      \n",
    "    \"\"\"\n",
    "    __slots__ = 'func', 'target'\n",
    "    def __init__(self, func: str, target: bool=True):\n",
    "            \"\"\"\n",
    "            :param func  : Name of the condition-checking callable\n",
    "            :param target: Indicates the target state--i.e., when True,\n",
    "                           the condition-checking callback should return True to pass,\n",
    "                           and when False, the callback should return False to pass.\n",
    "            \"\"\"\n",
    "            self.func = func\n",
    "            self.target = target\n",
    "\n",
    "\n",
    "    def check(self, event_data: EventData):\n",
    "        \"\"\" Check whether the condition passes.\n",
    "            :param event_data: An EventData instance to pass to the\n",
    "                               condition (if event sending is enabled) or to extract arguments\n",
    "                               from (if event sending is disabled). Also contains the data\n",
    "                               model attached to the current machine which is used to invoke\n",
    "                               the condition.\n",
    "            :return: Method :)\n",
    "        \"\"\"\n",
    "        predicate = getattr(event_data.model, self.func) if isinstance(self.func, string_types) else self.func\n",
    "\n",
    "        if event_data.machine.send_event:\n",
    "            return predicate(event_data) == self.target\n",
    "        else:\n",
    "            return predicate(*event_data.args, **event_data.kwargs) == self.target\n",
    "        \n",
    "        "
   ]
  },
  {
   "cell_type": "code",
   "execution_count": 2,
   "metadata": {
    "collapsed": true
   },
   "outputs": [],
   "source": [
    "\n",
    "\n",
    "class Transition:\n",
    "    __slots__ = 'source', 'dest', 'conditions', 'unless', 'before', 'after', 'prepare'\n",
    "    def __init__(self, source: str, dest: str, conditions:(str or list) =None, unless:(str or list) =None, before:(str or list) =None,\n",
    "                 after:(str or list) =None, prepare:(str or list)=None):\n",
    "        \"\"\"\n",
    "        Args:\n",
    "            :param source     : The name of the source State.\n",
    "            :param dest       : The name of the destination State.\n",
    "            :param conditions : Condition(s) that must pass in order for\n",
    "                                the transition to take place. Either a string providing the\n",
    "                                name of a callable, or a list of callables. For the transition\n",
    "                                to occur, ALL callables must return True.\n",
    "            :param unless     : Condition(s) that must return False in order\n",
    "                for the transition to occur. Behaves just like conditions arg\n",
    "                otherwise.\n",
    "            :param before     : callbacks to trigger before the\n",
    "                transition.\n",
    "            :param after      : callbacks to trigger after the transition.\n",
    "            :param prepare    : callbacks to trigger before conditions are checked\n",
    "        \"\"\"\n",
    "        self.source = source\n",
    "        self.dest = dest\n",
    "        self.prepare = [] if prepare is None else listify(prepare)\n",
    "        self.before = [] if before is None else listify(before)\n",
    "        self.after = [] if after is None else listify(after)\n",
    "\n",
    "        self.conditions = []\n",
    "        if conditions is not None:\n",
    "            for c in listify(conditions):\n",
    "                self.conditions.append(Condition(c))\n",
    "        if unless is not None:\n",
    "            for u in listify(unless):\n",
    "                self.conditions.append(Condition(u, target=False))\n",
    "\n",
    "\n"
   ]
  },
  {
   "cell_type": "code",
   "execution_count": 3,
   "metadata": {
    "collapsed": true
   },
   "outputs": [],
   "source": [
    "\n",
    "\n",
    "class EventData:\n",
    "    pass"
   ]
  },
  {
   "cell_type": "code",
   "execution_count": 4,
   "metadata": {
    "collapsed": true
   },
   "outputs": [],
   "source": [
    "\n",
    "\n",
    "class Event:\n",
    "    pass"
   ]
  },
  {
   "cell_type": "code",
   "execution_count": null,
   "metadata": {
    "collapsed": true
   },
   "outputs": [],
   "source": [
    "\n",
    "\n",
    "class Machine:\n",
    "    pass"
   ]
  }
 ],
 "metadata": {
  "kernelspec": {
   "display_name": "Python 3",
   "language": "python",
   "name": "python3"
  },
  "language_info": {
   "codemirror_mode": {
    "name": "ipython",
    "version": 3
   },
   "file_extension": ".py",
   "mimetype": "text/x-python",
   "name": "python",
   "nbconvert_exporter": "python",
   "pygments_lexer": "ipython3",
   "version": "3.5.2"
  }
 },
 "nbformat": 4,
 "nbformat_minor": 0
}
